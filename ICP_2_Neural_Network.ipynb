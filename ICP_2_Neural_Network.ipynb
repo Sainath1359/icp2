{
  "nbformat": 4,
  "nbformat_minor": 0,
  "metadata": {
    "colab": {
      "provenance": [],
      "authorship_tag": "ABX9TyPHxgllZ95nY76L+24TdLUf",
      "include_colab_link": true
    },
    "kernelspec": {
      "name": "python3",
      "display_name": "Python 3"
    },
    "language_info": {
      "name": "python"
    }
  },
  "cells": [
    {
      "cell_type": "markdown",
      "metadata": {
        "id": "view-in-github",
        "colab_type": "text"
      },
      "source": [
        "<a href=\"https://colab.research.google.com/github/Sainath1359/icp2/blob/main/ICP_2_Neural_Network.ipynb\" target=\"_parent\"><img src=\"https://colab.research.google.com/assets/colab-badge.svg\" alt=\"Open In Colab\"/></a>"
      ]
    },
    {
      "cell_type": "markdown",
      "source": [
        "# Program 1"
      ],
      "metadata": {
        "id": "3ueG046avXlq"
      }
    },
    {
      "cell_type": "code",
      "execution_count": null,
      "metadata": {
        "colab": {
          "base_uri": "https://localhost:8080/"
        },
        "id": "nIEXt5ixi1_f",
        "outputId": "7ce10a3c-346f-4037-fdc8-97c837421a4e"
      },
      "outputs": [
        {
          "output_type": "stream",
          "name": "stdout",
          "text": [
            "Please enter your first name: Good\n",
            "Please enter your last name: Evening\n",
            "Your full name is: Good Evening\n",
            "Every other character in your full name is:  Go vnn\n"
          ]
        }
      ],
      "source": [
        "def fullname(first_name, last_name):\n",
        "    return first_name + \" \" + last_name\n",
        "\n",
        "def string_alternative(full_name):\n",
        "  name_alt = [full_name[i] if i%2==0 else \"\" for i in range(len(full_name))]\n",
        "  return \"\".join(name_alt)\n",
        "\n",
        "first_name = input(\"Please enter your first name: \")\n",
        "last_name = input(\"Please enter your last name: \")\n",
        "\n",
        "full_name = fullname(first_name, last_name)\n",
        "alternatives = string_alternative(full_name)\n",
        "\n",
        "print(\"Your full name is: \" + full_name)\n",
        "print(\"Every other character in your full name is: \", alternatives)"
      ]
    },
    {
      "cell_type": "markdown",
      "source": [
        "# Program 2"
      ],
      "metadata": {
        "id": "J0JIifnHvOK2"
      }
    },
    {
      "cell_type": "code",
      "source": [
        "words_count = {}\n",
        "with open('/content/input.txt','r') as file_:\n",
        "  for line in file_.readlines():\n",
        "    for word in line.split(\" \"):\n",
        "      word = word.strip().title()\n",
        "      words_count[word] = words_count.get(word,0) + 1\n",
        "\n",
        "for word,count in words_count.items():\n",
        "  print(\"{}: {}\".format(word,count))\n"
      ],
      "metadata": {
        "colab": {
          "base_uri": "https://localhost:8080/"
        },
        "id": "QQtmSbmjjnF4",
        "outputId": "ebf50278-deda-4d3d-c311-12416f38fe37"
      },
      "execution_count": null,
      "outputs": [
        {
          "output_type": "stream",
          "name": "stdout",
          "text": [
            "Python: 1\n",
            "Course: 2\n",
            "Deep: 1\n",
            "Learning: 1\n"
          ]
        }
      ]
    },
    {
      "cell_type": "markdown",
      "source": [
        "# program 3\n",
        "1) Nested Interactive loop."
      ],
      "metadata": {
        "id": "cvxW2eKkvF4B"
      }
    },
    {
      "cell_type": "code",
      "source": [
        "def inch_cnt(inches_list):\n",
        "  # using for loop\n",
        "  print(\"L1 : \",inches_list)\n",
        "  heights_centims = []\n",
        "  for i in inches_list:\n",
        "    heights_centims.append(i*2.54)\n",
        "  return heights_centims\n",
        "\n",
        "print(\"Output: \",inch_cnt([150,155,145,148]))"
      ],
      "metadata": {
        "colab": {
          "base_uri": "https://localhost:8080/"
        },
        "id": "8hBOiya-nfGy",
        "outputId": "9e40b0b4-566d-4d97-ac4f-b2fbf72708ec"
      },
      "execution_count": null,
      "outputs": [
        {
          "output_type": "stream",
          "name": "stdout",
          "text": [
            "L1 :  [150, 155, 145, 148]\n",
            "Output:  [381.0, 393.7, 368.3, 375.92]\n"
          ]
        }
      ]
    },
    {
      "cell_type": "markdown",
      "source": [
        "2) List Comprehensions"
      ],
      "metadata": {
        "id": "oKLC8aUSu7V_"
      }
    },
    {
      "cell_type": "code",
      "source": [
        "def inch_cnt(inches_list):\n",
        "  # using list comprehension\n",
        "  print(\"L1 : \",inches_list)\n",
        "  heights_centims = [i*2.54 for i in inches_list]\n",
        "  return heights_centims\n",
        "\n",
        "print(\"Output: \",inch_cnt([150,155,145,148]))\n"
      ],
      "metadata": {
        "colab": {
          "base_uri": "https://localhost:8080/"
        },
        "id": "FvOUQcD3pxLr",
        "outputId": "33c5210d-0744-4d47-82f7-19af48dee3c8"
      },
      "execution_count": null,
      "outputs": [
        {
          "output_type": "stream",
          "name": "stdout",
          "text": [
            "L1 :  [150, 155, 145, 148]\n",
            "Output:  [381.0, 393.7, 368.3, 375.92]\n"
          ]
        }
      ]
    },
    {
      "cell_type": "code",
      "source": [
        "def fullname(first_name, last_name):\n",
        "    return first_name + \" \" + last_name\n",
        "\n",
        "def string_alternative(full_name):\n",
        "  full_alt = \"\"\n",
        "  for i in range(len(full_name)):\n",
        "    if (i%2==0):\n",
        "      full_alt = full_alt + full_name[i]\n",
        "  return full_alt\n",
        "\n",
        "first_name = input(\"Please enter your first name: \")\n",
        "last_name = input(\"Please enter your last name: \")\n",
        "\n",
        "full_name = fullname(first_name, last_name)\n",
        "alternatives = string_alternative(full_name)\n",
        "\n",
        "print(\"Your full name is: \" + full_name)\n",
        "print(\"Every other character in your full name is: \" + alternatives)"
      ],
      "metadata": {
        "id": "p3HDYOuXtn-U"
      },
      "execution_count": null,
      "outputs": []
    },
    {
      "cell_type": "code",
      "source": [
        "\"\".join([\"sai\",\" \",\"nath\"])"
      ],
      "metadata": {
        "colab": {
          "base_uri": "https://localhost:8080/",
          "height": 36
        },
        "id": "n6uLi_XpwgZ3",
        "outputId": "7889f85c-5220-4a6c-9077-228d381ec344"
      },
      "execution_count": null,
      "outputs": [
        {
          "output_type": "execute_result",
          "data": {
            "text/plain": [
              "'sai nath'"
            ],
            "application/vnd.google.colaboratory.intrinsic+json": {
              "type": "string"
            }
          },
          "metadata": {},
          "execution_count": 48
        }
      ]
    },
    {
      "cell_type": "code",
      "source": [
        "[\"Python Course\",\"Deep Learnin\"]"
      ],
      "metadata": {
        "id": "IlNanxPBwn63"
      },
      "execution_count": null,
      "outputs": []
    },
    {
      "cell_type": "code",
      "source": [
        "\"python-course-adfak-fhekjhak\".split(\"-\")"
      ],
      "metadata": {
        "colab": {
          "base_uri": "https://localhost:8080/"
        },
        "id": "nGR_bEcoxhdw",
        "outputId": "9ca42f65-323d-4d86-ba0e-c1e3e885b73f"
      },
      "execution_count": null,
      "outputs": [
        {
          "output_type": "execute_result",
          "data": {
            "text/plain": [
              "['python', 'course', 'adfak', 'fhekjhak']"
            ]
          },
          "metadata": {},
          "execution_count": 53
        }
      ]
    },
    {
      "cell_type": "code",
      "source": [
        "a_dict = {\"a\":1,\"b\":2,\"c\":3}\n",
        "a_dict"
      ],
      "metadata": {
        "colab": {
          "base_uri": "https://localhost:8080/"
        },
        "id": "66GydejHxkpl",
        "outputId": "22e50f00-c574-43d8-ae40-799190f8fbe2"
      },
      "execution_count": null,
      "outputs": [
        {
          "output_type": "execute_result",
          "data": {
            "text/plain": [
              "{'a': 1, 'b': 2, 'c': 3}"
            ]
          },
          "metadata": {},
          "execution_count": 54
        }
      ]
    },
    {
      "cell_type": "code",
      "source": [
        "a_dict['s'] = a_dict.get(\"s\",0)"
      ],
      "metadata": {
        "id": "hHyqEzqlyZ2X"
      },
      "execution_count": null,
      "outputs": []
    },
    {
      "cell_type": "code",
      "source": [
        "a_dict"
      ],
      "metadata": {
        "colab": {
          "base_uri": "https://localhost:8080/"
        },
        "id": "u17MZcpIydhe",
        "outputId": "d5b6d001-3b93-467b-ce48-a1766b394ece"
      },
      "execution_count": null,
      "outputs": [
        {
          "output_type": "execute_result",
          "data": {
            "text/plain": [
              "{'a': 1, 'b': 2, 'c': 3, 's': 0}"
            ]
          },
          "metadata": {},
          "execution_count": 58
        }
      ]
    },
    {
      "cell_type": "code",
      "source": [],
      "metadata": {
        "id": "VgVOs56by4VP"
      },
      "execution_count": null,
      "outputs": []
    }
  ]
}